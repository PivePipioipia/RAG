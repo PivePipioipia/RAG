{
 "cells": [
  {
   "cell_type": "code",
   "execution_count": 93,
   "id": "0ee51ec8",
   "metadata": {},
   "outputs": [],
   "source": [
    "corpus_of_documents = [\n",
    "    \"Take a leisurely walk in the park and enjoy the fresh air.\",\n",
    "    \"Visit a local museum and discover something new.\",\n",
    "    \"Attend a live music concert and feel the rhythm.\",\n",
    "    \"Go for a hike and admire the natural scenery.\",\n",
    "    \"Have a picnic with friends and share some laughs.\",\n",
    "    \"Explore a new cuisine by dining at an ethnic restaurant.\",\n",
    "    \"Take a yoga class and stretch your body and mind.\",\n",
    "    \"Join a local sports league and enjoy some friendly competition.\",\n",
    "    \"Attend a workshop or lecture on a topic you're interested in.\",\n",
    "    \"Visit an amusement park and ride the roller coasters.\"\n",
    "]\n"
   ]
  },
  {
   "cell_type": "code",
   "execution_count": 94,
   "id": "67b1c4df",
   "metadata": {},
   "outputs": [
    {
     "data": {
      "text/plain": [
       "['Take a leisurely walk in the park and enjoy the fresh air.',\n",
       " 'Visit a local museum and discover something new.',\n",
       " 'Attend a live music concert and feel the rhythm.',\n",
       " 'Go for a hike and admire the natural scenery.',\n",
       " 'Have a picnic with friends and share some laughs.',\n",
       " 'Explore a new cuisine by dining at an ethnic restaurant.',\n",
       " 'Take a yoga class and stretch your body and mind.',\n",
       " 'Join a local sports league and enjoy some friendly competition.',\n",
       " \"Attend a workshop or lecture on a topic you're interested in.\",\n",
       " 'Visit an amusement park and ride the roller coasters.']"
      ]
     },
     "execution_count": 94,
     "metadata": {},
     "output_type": "execute_result"
    }
   ],
   "source": [
    "corpus_of_documents"
   ]
  },
  {
   "cell_type": "code",
   "execution_count": 95,
   "id": "f5ed6011",
   "metadata": {},
   "outputs": [],
   "source": [
    "user_query = 'I am a Vietnamese and I live in Vietnam'"
   ]
  },
  {
   "cell_type": "code",
   "execution_count": 96,
   "id": "7e6e5717",
   "metadata": {},
   "outputs": [],
   "source": [
    "document = 'Vietnam is a country for the Vietnamese and for everyone'"
   ]
  },
  {
   "cell_type": "code",
   "execution_count": 97,
   "id": "4dc06d26",
   "metadata": {},
   "outputs": [],
   "source": [
    "from collections import Counter\n",
    "import math"
   ]
  },
  {
   "cell_type": "code",
   "execution_count": 98,
   "id": "82784f3d",
   "metadata": {},
   "outputs": [],
   "source": [
    "query_tokens = user_query.lower().split(\" \")"
   ]
  },
  {
   "cell_type": "code",
   "execution_count": 99,
   "id": "356f29fd",
   "metadata": {},
   "outputs": [
    {
     "data": {
      "text/plain": [
       "['i', 'am', 'a', 'vietnamese', 'and', 'i', 'live', 'in', 'vietnam']"
      ]
     },
     "execution_count": 99,
     "metadata": {},
     "output_type": "execute_result"
    }
   ],
   "source": [
    "query_tokens"
   ]
  },
  {
   "cell_type": "code",
   "execution_count": 100,
   "id": "d686f6d2",
   "metadata": {},
   "outputs": [],
   "source": [
    "document_tokens = document.lower().split(\" \")"
   ]
  },
  {
   "cell_type": "code",
   "execution_count": 101,
   "id": "9eb8015a",
   "metadata": {},
   "outputs": [
    {
     "data": {
      "text/plain": [
       "['vietnam',\n",
       " 'is',\n",
       " 'a',\n",
       " 'country',\n",
       " 'for',\n",
       " 'the',\n",
       " 'vietnamese',\n",
       " 'and',\n",
       " 'for',\n",
       " 'everyone']"
      ]
     },
     "execution_count": 101,
     "metadata": {},
     "output_type": "execute_result"
    }
   ],
   "source": [
    "document.lower().split(\" \")"
   ]
  },
  {
   "cell_type": "code",
   "execution_count": 102,
   "id": "495068fd",
   "metadata": {},
   "outputs": [
    {
     "data": {
      "text/plain": [
       "['vietnam',\n",
       " 'is',\n",
       " 'a',\n",
       " 'country',\n",
       " 'for',\n",
       " 'the',\n",
       " 'vietnamese',\n",
       " 'and',\n",
       " 'for',\n",
       " 'everyone']"
      ]
     },
     "execution_count": 102,
     "metadata": {},
     "output_type": "execute_result"
    }
   ],
   "source": [
    "document_tokens"
   ]
  },
  {
   "cell_type": "code",
   "execution_count": 103,
   "id": "820b20e1",
   "metadata": {},
   "outputs": [
    {
     "data": {
      "text/plain": [
       "Counter({'i': 2,\n",
       "         'am': 1,\n",
       "         'a': 1,\n",
       "         'vietnamese': 1,\n",
       "         'and': 1,\n",
       "         'live': 1,\n",
       "         'in': 1,\n",
       "         'vietnam': 1})"
      ]
     },
     "execution_count": 103,
     "metadata": {},
     "output_type": "execute_result"
    }
   ],
   "source": [
    "Counter(query_tokens)"
   ]
  },
  {
   "cell_type": "code",
   "execution_count": 104,
   "id": "3b1d4f18",
   "metadata": {},
   "outputs": [],
   "source": [
    "query_counter= Counter(query_tokens)"
   ]
  },
  {
   "cell_type": "code",
   "execution_count": 105,
   "id": "569dd441",
   "metadata": {},
   "outputs": [
    {
     "data": {
      "text/plain": [
       "Counter({'i': 2,\n",
       "         'am': 1,\n",
       "         'a': 1,\n",
       "         'vietnamese': 1,\n",
       "         'and': 1,\n",
       "         'live': 1,\n",
       "         'in': 1,\n",
       "         'vietnam': 1})"
      ]
     },
     "execution_count": 105,
     "metadata": {},
     "output_type": "execute_result"
    }
   ],
   "source": [
    "query_counter"
   ]
  },
  {
   "cell_type": "code",
   "execution_count": 106,
   "id": "54887bd6",
   "metadata": {},
   "outputs": [],
   "source": [
    "document_counter = Counter(document_tokens)"
   ]
  },
  {
   "cell_type": "code",
   "execution_count": 107,
   "id": "2d324034",
   "metadata": {},
   "outputs": [
    {
     "data": {
      "text/plain": [
       "Counter({'for': 2,\n",
       "         'vietnam': 1,\n",
       "         'is': 1,\n",
       "         'a': 1,\n",
       "         'country': 1,\n",
       "         'the': 1,\n",
       "         'vietnamese': 1,\n",
       "         'and': 1,\n",
       "         'everyone': 1})"
      ]
     },
     "execution_count": 107,
     "metadata": {},
     "output_type": "execute_result"
    }
   ],
   "source": [
    "document_counter"
   ]
  },
  {
   "cell_type": "code",
   "execution_count": 108,
   "id": "5ad30012",
   "metadata": {},
   "outputs": [],
   "source": [
    "lst = []\n",
    "for token in query_counter.keys():\n",
    "    lst.append(query_counter[token])"
   ]
  },
  {
   "cell_type": "code",
   "execution_count": 109,
   "id": "f9eaca91",
   "metadata": {},
   "outputs": [
    {
     "data": {
      "text/plain": [
       "[2, 1, 1, 1, 1, 1, 1, 1]"
      ]
     },
     "execution_count": 109,
     "metadata": {},
     "output_type": "execute_result"
    }
   ],
   "source": [
    "lst"
   ]
  },
  {
   "cell_type": "code",
   "execution_count": 110,
   "id": "ef43800d",
   "metadata": {},
   "outputs": [],
   "source": [
    "mylist=[]\n",
    "for tokens in query_counter.keys() & document_counter.keys():\n",
    "    mylist.append(query_counter[tokens]*document_counter[tokens])"
   ]
  },
  {
   "cell_type": "code",
   "execution_count": 111,
   "id": "270a6472",
   "metadata": {},
   "outputs": [
    {
     "data": {
      "text/plain": [
       "[1, 1, 1, 1]"
      ]
     },
     "execution_count": 111,
     "metadata": {},
     "output_type": "execute_result"
    }
   ],
   "source": [
    "mylist"
   ]
  },
  {
   "cell_type": "code",
   "execution_count": null,
   "id": "6de73fc2",
   "metadata": {},
   "outputs": [],
   "source": []
  },
  {
   "cell_type": "code",
   "execution_count": 112,
   "id": "aa642862",
   "metadata": {},
   "outputs": [],
   "source": [
    "query_magnitude = math.sqrt(sum(query_counter[token]**2 for token in query_counter))"
   ]
  },
  {
   "cell_type": "code",
   "execution_count": 113,
   "id": "8fb1d36f",
   "metadata": {},
   "outputs": [
    {
     "data": {
      "text/plain": [
       "3.3166247903554"
      ]
     },
     "execution_count": 113,
     "metadata": {},
     "output_type": "execute_result"
    }
   ],
   "source": [
    "query_magnitude"
   ]
  },
  {
   "cell_type": "code",
   "execution_count": 114,
   "id": "1565e34a",
   "metadata": {},
   "outputs": [],
   "source": [
    "document_magnitude = math.sqrt(sum(document_counter[token]**2 for token in document_counter))"
   ]
  },
  {
   "cell_type": "code",
   "execution_count": 115,
   "id": "b30dab9b",
   "metadata": {},
   "outputs": [
    {
     "data": {
      "text/plain": [
       "3.4641016151377544"
      ]
     },
     "execution_count": 115,
     "metadata": {},
     "output_type": "execute_result"
    }
   ],
   "source": [
    "document_magnitude"
   ]
  },
  {
   "cell_type": "code",
   "execution_count": 116,
   "id": "f564fe9a",
   "metadata": {},
   "outputs": [],
   "source": [
    "dot_prod = sum(mylist)"
   ]
  },
  {
   "cell_type": "code",
   "execution_count": 117,
   "id": "fcc8ef77",
   "metadata": {},
   "outputs": [],
   "source": [
    "similarity = (dot_prod)/(query_magnitude*document_magnitude)"
   ]
  },
  {
   "cell_type": "code",
   "execution_count": 118,
   "id": "4b4a6b0f",
   "metadata": {},
   "outputs": [
    {
     "data": {
      "text/plain": [
       "0.3481553119113957"
      ]
     },
     "execution_count": 118,
     "metadata": {},
     "output_type": "execute_result"
    }
   ],
   "source": [
    "similarity"
   ]
  },
  {
   "cell_type": "code",
   "execution_count": 119,
   "id": "8f57bbfb",
   "metadata": {},
   "outputs": [],
   "source": [
    "user_query = 'is yoga good for health'\n",
    "document = 'yoga is very good for living healthy lifestyle'"
   ]
  },
  {
   "cell_type": "code",
   "execution_count": 120,
   "id": "3b26b2ec",
   "metadata": {},
   "outputs": [],
   "source": [
    "def cosine_similarity(query, document):\n",
    "    query_tokens = query.lower().split(\" \")\n",
    "    document_tokens = document.lower().split(\" \")\n",
    "\n",
    "    query_counter = Counter(query_tokens)\n",
    "    document_counter = Counter(document_tokens)\n",
    "\n",
    "    dot_product = sum(query_counter[token]*document_counter[token] for token in query_counter.keys() & document_counter.keys())\n",
    "    query_magnitude = math.sqrt(sum(query_counter[token]**2 for token in query_counter))\n",
    "    query_magnitude = math.sqrt(sum(document_counter[token]**2 for token in document_counter))\n",
    "\n",
    "    similarity = dot_product/(query_magnitude*document_magnitude) if query_magnitude*document_magnitude != 0 else 0\n",
    "\n",
    "    return similarity"
   ]
  },
  {
   "cell_type": "code",
   "execution_count": 121,
   "id": "26e6d6e6",
   "metadata": {},
   "outputs": [
    {
     "data": {
      "text/plain": [
       "0.40824829046386296"
      ]
     },
     "execution_count": 121,
     "metadata": {},
     "output_type": "execute_result"
    }
   ],
   "source": [
    "cosine_similarity(user_query, document)"
   ]
  },
  {
   "cell_type": "code",
   "execution_count": 122,
   "id": "c983883a",
   "metadata": {},
   "outputs": [],
   "source": [
    "def return_response(query, corpus):\n",
    "    similarities=[]\n",
    "    for doc in corpus:\n",
    "        similarity = cosine_similarity(query, doc)\n",
    "        similarities.append(similarity)\n",
    "    return corpus_of_documents[similarities.index(max(similarities))]"
   ]
  },
  {
   "cell_type": "code",
   "execution_count": 123,
   "id": "e580ae98",
   "metadata": {},
   "outputs": [
    {
     "data": {
      "text/plain": [
       "['Take a leisurely walk in the park and enjoy the fresh air.',\n",
       " 'Visit a local museum and discover something new.',\n",
       " 'Attend a live music concert and feel the rhythm.',\n",
       " 'Go for a hike and admire the natural scenery.',\n",
       " 'Have a picnic with friends and share some laughs.',\n",
       " 'Explore a new cuisine by dining at an ethnic restaurant.',\n",
       " 'Take a yoga class and stretch your body and mind.',\n",
       " 'Join a local sports league and enjoy some friendly competition.',\n",
       " \"Attend a workshop or lecture on a topic you're interested in.\",\n",
       " 'Visit an amusement park and ride the roller coasters.']"
      ]
     },
     "execution_count": 123,
     "metadata": {},
     "output_type": "execute_result"
    }
   ],
   "source": [
    "corpus_of_documents"
   ]
  },
  {
   "cell_type": "code",
   "execution_count": 124,
   "id": "84fafd2a",
   "metadata": {},
   "outputs": [],
   "source": [
    "query = 'I like fresh air'"
   ]
  },
  {
   "cell_type": "code",
   "execution_count": 125,
   "id": "ee998df1",
   "metadata": {},
   "outputs": [
    {
     "data": {
      "text/plain": [
       "'Take a leisurely walk in the park and enjoy the fresh air.'"
      ]
     },
     "execution_count": 125,
     "metadata": {},
     "output_type": "execute_result"
    }
   ],
   "source": [
    "return_response(query, corpus_of_documents)"
   ]
  },
  {
   "cell_type": "code",
   "execution_count": 126,
   "id": "abd05155",
   "metadata": {},
   "outputs": [],
   "source": [
    "query = 'I like to do yoga'"
   ]
  },
  {
   "cell_type": "code",
   "execution_count": 127,
   "id": "a5bf3819",
   "metadata": {},
   "outputs": [
    {
     "data": {
      "text/plain": [
       "'Take a yoga class and stretch your body and mind.'"
      ]
     },
     "execution_count": 127,
     "metadata": {},
     "output_type": "execute_result"
    }
   ],
   "source": [
    "return_response(query, corpus_of_documents)"
   ]
  },
  {
   "cell_type": "markdown",
   "id": "d99091ef",
   "metadata": {},
   "source": [
    "How you can configure llm in your local system\n",
    "LLAMA2\n",
    "curl -X POST http://localhost:11434/api/generate -d '{\n",
    "  \"model\": \"codellama\",\n",
    "  \"prompt\": \"Write me a function that outputs the fibonacci sequence\"\n",
    "}"
   ]
  },
  {
   "cell_type": "code",
   "execution_count": 129,
   "id": "1a4bab4e",
   "metadata": {},
   "outputs": [],
   "source": [
    "import requests\n",
    "import json\n",
    "full_response = []"
   ]
  },
  {
   "cell_type": "code",
   "execution_count": 138,
   "id": "b49f941c",
   "metadata": {},
   "outputs": [],
   "source": [
    "query = 'I like fresh air'"
   ]
  },
  {
   "cell_type": "code",
   "execution_count": 139,
   "id": "593e6590",
   "metadata": {},
   "outputs": [],
   "source": [
    "user_input = 'I like fresh air'"
   ]
  },
  {
   "cell_type": "code",
   "execution_count": 140,
   "id": "4691180a",
   "metadata": {},
   "outputs": [],
   "source": [
    "relevant_document = return_response(query, corpus_of_documents)"
   ]
  },
  {
   "cell_type": "code",
   "execution_count": 142,
   "id": "7929b64b",
   "metadata": {},
   "outputs": [
    {
     "name": "stdout",
     "output_type": "stream",
     "text": [
      "Relevant doc: Take a leisurely walk in the park and enjoy the fresh air.\n"
     ]
    }
   ],
   "source": [
    "print(\"Relevant doc:\", relevant_document)\n"
   ]
  },
  {
   "cell_type": "code",
   "execution_count": 141,
   "id": "e74738d9",
   "metadata": {},
   "outputs": [
    {
     "name": "stdout",
     "output_type": "stream",
     "text": [
      "The recommended activity doesn't include fresh air as a component, so I can't compile a recommendation based on the given context.Taking a yoga class sounds like a great way to enjoy fresh air while also stretching your body and mind.Sure, here's a recommendation based on the user input:\n",
      "\n",
      "Try a yoga class that focuses on stretching your body and mind. It's a great way to relieve stress, improve flexibility, and promote overall well-being.Try taking a yoga class outdoors in a park or other natural setting. Fresh air can enhance your workout and help you to relax.Take a leisurely walk in the park and enjoy the fresh air.\n"
     ]
    }
   ],
   "source": [
    "prompt = \"\"\"\n",
    "You are a bot that makes recomendations for activities. You answer in very short sentences and do not include extra information\n",
    "This is the recommended activity: {relevant_document}\n",
    "The user input is: {user_input}\n",
    "Compile a recommendation to the user based on the recommended activity and the user input.\n",
    "\"\"\"\n",
    "\n",
    "url = 'http://localhost:11434/api/generate'\n",
    "\n",
    "data = {\n",
    "    'model' : 'gemma:2b',\n",
    "    'prompt': prompt.format(user_input = user_input, relevant_document = relevant_document)\n",
    "}\n",
    "\n",
    "headers = {'Content-Type': 'application/json'} \n",
    "\n",
    "response = requests.post(url, data = json.dumps(data), headers = headers, stream = True)\n",
    "\n",
    "try: \n",
    "    for line in response.iter_lines():\n",
    "        #filter out keep-alive new lines\n",
    "        if line:\n",
    "            decoded_line = json.loads(line.decode('utf-8'))\n",
    "            #print(decoded_line['response']) # uncomment to results, token by token\n",
    "            full_response.append(decoded_line['response'])\n",
    "finally: \n",
    "    response.close()\n",
    "\n",
    "print(''.join(full_response))\n",
    "\n",
    "\n"
   ]
  }
 ],
 "metadata": {
  "kernelspec": {
   "display_name": "rag_env",
   "language": "python",
   "name": "python3"
  },
  "language_info": {
   "codemirror_mode": {
    "name": "ipython",
    "version": 3
   },
   "file_extension": ".py",
   "mimetype": "text/x-python",
   "name": "python",
   "nbconvert_exporter": "python",
   "pygments_lexer": "ipython3",
   "version": "3.10.18"
  }
 },
 "nbformat": 4,
 "nbformat_minor": 5
}
